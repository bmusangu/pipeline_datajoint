{
 "cells": [
  {
   "cell_type": "code",
   "execution_count": 1,
   "id": "6232e580",
   "metadata": {},
   "outputs": [
    {
     "name": "stdout",
     "output_type": "stream",
     "text": [
      "Connecting root@127.0.0.1:3306\n"
     ]
    }
   ],
   "source": [
    "import datajoint as dj\n",
    "from pipeline2 import *\n",
    "%matplotlib inline"
   ]
  },
  {
   "cell_type": "code",
   "execution_count": 2,
   "id": "2b212b57",
   "metadata": {
    "scrolled": true
   },
   "outputs": [
    {
     "data": {
      "image/svg+xml": [
       "<svg xmlns=\"http://www.w3.org/2000/svg\" xmlns:xlink=\"http://www.w3.org/1999/xlink\" width=\"222pt\" height=\"185pt\" viewBox=\"0.00 0.00 222.25 185.00\">\n",
       "<g id=\"graph0\" class=\"graph\" transform=\"scale(1 1) rotate(0) translate(4 181)\">\n",
       "<title>%3</title>\n",
       "<polygon fill=\"white\" stroke=\"none\" points=\"-4,4 -4,-181 218.25,-181 218.25,4 -4,4\"/>\n",
       "<!-- Stimulus -->\n",
       "<g id=\"node1\" class=\"node\"><title>Stimulus</title>\n",
       "<g id=\"a_node1\"><a xlink:title=\"→ Session\r",
       "trial_id             \r",
       "------------------------------\r",
       "visori               \r",
       "viscon               \r",
       "\">\n",
       "<ellipse fill=\"#00007f\" fill-opacity=\"0.250980\" stroke=\"#00007f\" stroke-opacity=\"0.250980\" cx=\"54.75\" cy=\"-88.5\" rx=\"38.2504\" ry=\"17.5\"/>\n",
       "<text text-anchor=\"start\" x=\"32.25\" y=\"-86.4\" font-family=\"arial\" text-decoration=\"underline\" font-size=\"12.00\" fill=\"#00007f\">Stimulus</text>\n",
       "</a>\n",
       "</g>\n",
       "</g>\n",
       "<!-- Neuralactivity -->\n",
       "<g id=\"node5\" class=\"node\"><title>Neuralactivity</title>\n",
       "<g id=\"a_node5\"><a xlink:title=\"→ Stimulus\r",
       "neuro_id             \r",
       "------------------------------\r",
       "activity             \r",
       "\">\n",
       "<ellipse fill=\"#00007f\" fill-opacity=\"0.250980\" stroke=\"#00007f\" stroke-opacity=\"0.250980\" cx=\"53.75\" cy=\"-17.5\" rx=\"53.5012\" ry=\"17.5\"/>\n",
       "<text text-anchor=\"start\" x=\"18.75\" y=\"-15.4\" font-family=\"arial\" text-decoration=\"underline\" font-size=\"12.00\" fill=\"#00007f\">Neuralactivity</text>\n",
       "</a>\n",
       "</g>\n",
       "</g>\n",
       "<!-- Stimulus&#45;&gt;Neuralactivity -->\n",
       "<g id=\"edge1\" class=\"edge\"><title>Stimulus-&gt;Neuralactivity</title>\n",
       "<path fill=\"none\" stroke=\"#000000\" stroke-width=\"0.75\" stroke-opacity=\"0.250980\" d=\"M54.5079,-70.797C54.3507,-59.9485 54.1466,-45.8669 53.9898,-35.0492\"/>\n",
       "</g>\n",
       "<!-- Parameters -->\n",
       "<g id=\"node2\" class=\"node\"><title>Parameters</title>\n",
       "<g id=\"a_node2\"><a xlink:title=\"→ ActivityStatistics\r",
       "------------------------------\r",
       "params               \r",
       "act_mean_per_ori     \r",
       "\">\n",
       "<ellipse fill=\"#ff0000\" fill-opacity=\"0.125490\" stroke=\"#ff0000\" stroke-opacity=\"0.125490\" cx=\"164.75\" cy=\"-17.5\" rx=\"13\" ry=\"13\"/>\n",
       "<text text-anchor=\"middle\" x=\"164.75\" y=\"-14.4\" font-family=\"arial\" font-size=\"12.00\" fill=\"#7f0000\">Parameters</text>\n",
       "</a>\n",
       "</g>\n",
       "</g>\n",
       "<!-- Session -->\n",
       "<g id=\"node3\" class=\"node\"><title>Session</title>\n",
       "<g id=\"a_node3\"><a xlink:title=\"mouse_id             \r",
       "session_id           \r",
       "\">\n",
       "<polygon fill=\"#00ff00\" fill-opacity=\"0.188235\" stroke=\"#00ff00\" stroke-opacity=\"0.188235\" points=\"138.25,-177 79.25,-177 79.25,-142 138.25,-142 138.25,-177\"/>\n",
       "<text text-anchor=\"start\" x=\"87.25\" y=\"-157.4\" font-family=\"arial\" text-decoration=\"underline\" font-size=\"12.00\" fill=\"darkgreen\">Session</text>\n",
       "</a>\n",
       "</g>\n",
       "</g>\n",
       "<!-- Session&#45;&gt;Stimulus -->\n",
       "<g id=\"edge2\" class=\"edge\"><title>Session-&gt;Stimulus</title>\n",
       "<path fill=\"none\" stroke=\"#000000\" stroke-width=\"0.75\" stroke-opacity=\"0.250980\" d=\"M95.6781,-141.797C86.9383,-130.629 75.5172,-116.036 66.9613,-105.103\"/>\n",
       "</g>\n",
       "<!-- ActivityStatistics -->\n",
       "<g id=\"node4\" class=\"node\"><title>ActivityStatistics</title>\n",
       "<g id=\"a_node4\"><a xlink:title=\"→ Session\r",
       "neuro_id             \r",
       "visori               \r",
       "viscon               \r",
       "------------------------------\r",
       "mean                 \r",
       "stdev                \r",
       "max                  \r",
       "min                  \r",
       "\">\n",
       "<ellipse fill=\"#ff0000\" fill-opacity=\"0.125490\" stroke=\"#ff0000\" stroke-opacity=\"0.125490\" cx=\"163.75\" cy=\"-88.5\" rx=\"13\" ry=\"13\"/>\n",
       "<text text-anchor=\"start\" x=\"121.25\" y=\"-86.4\" font-family=\"arial\" text-decoration=\"underline\" font-size=\"12.00\" fill=\"#7f0000\">ActivityStatistics</text>\n",
       "</a>\n",
       "</g>\n",
       "</g>\n",
       "<!-- Session&#45;&gt;ActivityStatistics -->\n",
       "<g id=\"edge3\" class=\"edge\"><title>Session-&gt;ActivityStatistics</title>\n",
       "<path fill=\"none\" stroke=\"#000000\" stroke-width=\"0.75\" stroke-opacity=\"0.250980\" d=\"M122.064,-141.797C132.619,-128.555 147.013,-110.497 155.83,-99.4365\"/>\n",
       "</g>\n",
       "<!-- ActivityStatistics&#45;&gt;Parameters -->\n",
       "<g id=\"edge4\" class=\"edge\"><title>ActivityStatistics-&gt;Parameters</title>\n",
       "<path fill=\"none\" stroke=\"#000000\" stroke-width=\"2\" stroke-opacity=\"0.250980\" d=\"M163.924,-75.4811C164.105,-62.9711 164.388,-43.4759 164.571,-30.8458\"/>\n",
       "</g>\n",
       "</g>\n",
       "</svg>"
      ],
      "text/plain": [
       "<datajoint.diagram.Diagram at 0x1ead31a6e20>"
      ]
     },
     "execution_count": 2,
     "metadata": {},
     "output_type": "execute_result"
    }
   ],
   "source": [
    "dj.ERD(schema)"
   ]
  },
  {
   "cell_type": "code",
   "execution_count": null,
   "id": "3dfea8cc",
   "metadata": {},
   "outputs": [],
   "source": [
    "populate_new_data() # auto-populate function"
   ]
  },
  {
   "cell_type": "code",
   "execution_count": null,
   "id": "5ab71cef",
   "metadata": {},
   "outputs": [],
   "source": [
    "Session()"
   ]
  },
  {
   "cell_type": "code",
   "execution_count": null,
   "id": "db0c926e",
   "metadata": {},
   "outputs": [],
   "source": [
    "Stimulus()"
   ]
  },
  {
   "cell_type": "code",
   "execution_count": null,
   "id": "f4f0f04e",
   "metadata": {
    "scrolled": true
   },
   "outputs": [],
   "source": [
    "Neuralactivity()"
   ]
  },
  {
   "cell_type": "code",
   "execution_count": null,
   "id": "b0ea345a",
   "metadata": {},
   "outputs": [],
   "source": [
    "ActivityStatistics()"
   ]
  },
  {
   "cell_type": "code",
   "execution_count": null,
   "id": "c8929a38",
   "metadata": {},
   "outputs": [],
   "source": [
    "Parameters()"
   ]
  },
  {
   "cell_type": "code",
   "execution_count": null,
   "id": "8e960e66",
   "metadata": {},
   "outputs": [],
   "source": [
    "tuning_curve_plots(60, \"2019-09-06\", 1, 'm2')"
   ]
  },
  {
   "cell_type": "code",
   "execution_count": null,
   "id": "514fa541",
   "metadata": {},
   "outputs": [],
   "source": []
  }
 ],
 "metadata": {
  "kernelspec": {
   "display_name": "Python 3",
   "language": "python",
   "name": "python3"
  },
  "language_info": {
   "codemirror_mode": {
    "name": "ipython",
    "version": 3
   },
   "file_extension": ".py",
   "mimetype": "text/x-python",
   "name": "python",
   "nbconvert_exporter": "python",
   "pygments_lexer": "ipython3",
   "version": "3.8.10"
  }
 },
 "nbformat": 4,
 "nbformat_minor": 5
}
